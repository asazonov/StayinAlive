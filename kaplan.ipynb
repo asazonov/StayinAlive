{
 "cells": [
  {
   "cell_type": "code",
   "execution_count": 97,
   "metadata": {},
   "outputs": [],
   "source": [
    "import numpy as np\n",
    "import pandas as pd\n",
    "import lifelines as ll\n",
    "from IPython.display import HTML\n",
    "from pylab import rcParams\n",
    "from lifelines import KaplanMeierFitter\n",
    "rcParams['figure.figsize']=10, 5"
   ]
  },
  {
   "cell_type": "code",
   "execution_count": 98,
   "metadata": {},
   "outputs": [
    {
     "name": "stdout",
     "output_type": "stream",
     "text": [
      "        T  E    group\n",
      "0     6.0  1  miR-137\n",
      "1    13.0  1  miR-137\n",
      "2    13.0  1  miR-137\n",
      "3    13.0  1  miR-137\n",
      "4    19.0  1  miR-137\n",
      "5    19.0  1  miR-137\n",
      "6    19.0  1  miR-137\n",
      "7    26.0  1  miR-137\n",
      "8    26.0  1  miR-137\n",
      "9    26.0  1  miR-137\n",
      "10   26.0  1  miR-137\n",
      "11   26.0  1  miR-137\n",
      "12   33.0  1  miR-137\n",
      "13   33.0  1  miR-137\n",
      "14   47.0  1  miR-137\n",
      "15   62.0  1  miR-137\n",
      "16   62.0  1  miR-137\n",
      "17    9.0  1  miR-137\n",
      "18    9.0  1  miR-137\n",
      "19    9.0  1  miR-137\n",
      "20   15.0  1  miR-137\n",
      "21   15.0  1  miR-137\n",
      "22   22.0  1  miR-137\n",
      "23   22.0  1  miR-137\n",
      "24   22.0  1  miR-137\n",
      "25   22.0  1  miR-137\n",
      "26   29.0  1  miR-137\n",
      "27   29.0  1  miR-137\n",
      "28   29.0  1  miR-137\n",
      "29   29.0  1  miR-137\n",
      "..    ... ..      ...\n",
      "133  69.0  1  control\n",
      "134  38.0  1  control\n",
      "135  38.0  1  control\n",
      "136  45.0  1  control\n",
      "137  45.0  1  control\n",
      "138  45.0  1  control\n",
      "139  45.0  1  control\n",
      "140  45.0  1  control\n",
      "141  45.0  1  control\n",
      "142  45.0  1  control\n",
      "143  45.0  1  control\n",
      "144  45.0  0  control\n",
      "145  45.0  1  control\n",
      "146  53.0  1  control\n",
      "147  53.0  1  control\n",
      "148  53.0  1  control\n",
      "149  53.0  1  control\n",
      "150  53.0  1  control\n",
      "151  60.0  1  control\n",
      "152  60.0  0  control\n",
      "153  60.0  1  control\n",
      "154  60.0  1  control\n",
      "155  60.0  1  control\n",
      "156  60.0  1  control\n",
      "157  60.0  1  control\n",
      "158  60.0  1  control\n",
      "159  60.0  1  control\n",
      "160  60.0  1  control\n",
      "161  60.0  1  control\n",
      "162  66.0  1  control\n",
      "\n",
      "[163 rows x 3 columns]\n"
     ]
    }
   ],
   "source": [
    "#import data\n",
    "from lifelines.datasets import load_waltons\n",
    "df = load_waltons() # returns a Pandas DataFrame\n",
    "\n",
    "group = \"group\" #change to column name of grouping column\n",
    "zero = \"miR-137\" #group names\n",
    "one = \"miR-137\"\n",
    "two = \"control\""
   ]
  },
  {
   "cell_type": "code",
   "execution_count": 99,
   "metadata": {},
   "outputs": [],
   "source": [
    "T = df['T']\n",
    "E = df['E']"
   ]
  },
  {
   "cell_type": "code",
   "execution_count": 100,
   "metadata": {},
   "outputs": [
    {
     "data": {
      "text/plain": [
       "<matplotlib.axes._subplots.AxesSubplot at 0x7f2d45955710>"
      ]
     },
     "execution_count": 100,
     "metadata": {},
     "output_type": "execute_result"
    },
    {
     "data": {
      "image/png": "[encoded data removed]",
      "text/plain": [
       "<matplotlib.figure.Figure at 0x7f2d46b7b9b0>"
      ]
     },
     "metadata": {},
     "output_type": "display_data"
    }
   ],
   "source": [
    "kmf = KaplanMeierFitter()\n",
    "#kmf.fit(T, event_observed=E)  # or, more succiently, kmf.fit(T, E)\n",
    "#km_data=kmf.survival_function_ # data used for ploting Kaplan Meier curve\n",
    "\n",
    "#kmf.median_\n",
    "#a = kmf.plot()\n",
    "groups = df[group]\n",
    "\n",
    "ix = (groups == zero)\n",
    "yx = (groups == one)\n",
    "zx = (groups == two)\n",
    "\n",
    "kmf.fit(T[ix], E[ix], label=zero)\n",
    "km_data_zero=kmf.survival_function_\n",
    "confidence_zero = kmf.confidence_interval_\n",
    "\n",
    "ax = kmf.plot()\n",
    "\n",
    "kmf.fit(T[yx], E[yx], label=one)\n",
    "km_data_one=kmf.survival_function_\n",
    "confidence_one = kmf.confidence_interval_\n",
    "kmf.plot(ax=ax)\n",
    "\n",
    "kmf.fit(T[zx], E[zx], label=two)\n",
    "km_data_two=kmf.survival_function_\n",
    "confidence_two = kmf.confidence_interval_\n",
    "kmf.plot(ax=ax)"
   ]
  },
  {
   "cell_type": "code",
   "execution_count": 102,
   "metadata": {},
   "outputs": [],
   "source": [
    "#extracting confidence intervals\n",
    "upper_zero = confidence_one.iloc[:,0].tolist()\n",
    "upper_one = confidence_one.iloc[:,0].tolist()\n",
    "upper_two = confidence_two.iloc[:,0].tolist()\n",
    "\n",
    "lower_zero = confidence_zero.iloc[:,1].tolist()\n",
    "lower_one = confidence_one.iloc[:,1].tolist()\n",
    "lower_two = confidence_two.iloc[:,1].tolist()"
   ]
  },
  {
   "cell_type": "code",
   "execution_count": 103,
   "metadata": {},
   "outputs": [],
   "source": [
    "time_list_zero=km_data_zero.index.values.tolist()\n",
    "time_list_one=km_data_one.index.values.tolist()\n",
    "time_list_two=km_data_two.index.values.tolist()\n",
    "\n",
    "proportions_list_zero = km_data_zero.iloc[:,0].tolist()\n",
    "proportions_list_one = km_data_one.iloc[:,0].tolist()\n",
    "proportions_list_two = km_data_two.iloc[:,0].tolist()"
   ]
  },
  {
   "cell_type": "code",
   "execution_count": 105,
   "metadata": {},
   "outputs": [],
   "source": [
    "import numpy as np\n",
    "from collections import OrderedDict\n",
    "from bokeh.plotting import *\n",
    "from bokeh.plotting import figure, show, output_file\n",
    "from bokeh.models import HoverTool\n",
    "\n",
    "x_zero = time_list_zero\n",
    "x_one = time_list_one\n",
    "x_two = time_list_two\n",
    "\n",
    "y_zero = proportions_list_zero\n",
    "y_one = proportions_list_one\n",
    "y_two = proportions_list_two\n",
    "\n",
    "upperband_zero = upper_zero\n",
    "upperband_one = upper_one\n",
    "upperband_two = upper_two\n",
    "\n",
    "lowerband_zero = lower_zero\n",
    "lowerband_one = lower_one\n",
    "lowerband_two = lower_two\n",
    "\n",
    "#band_x = np.append(x, x[::-1])\n",
    "#band_y = np.append(lowerband, upperband[::-1])\n",
    "\n",
    "output_file(\"line.html\", title=\"Genotype Time To Event Kapalan Meier\")\n",
    "\n",
    "source_zero = ColumnDataSource(\n",
    "    data=dict(\n",
    "        x= x_zero,\n",
    "        y= y_zero,\n",
    "        label=[\"%s - %s\" % (upper_, lower_) for upper_, lower_ in zip(upper_zero, lower_zero)]\n",
    "    )\n",
    ")\n",
    "\n",
    "source_one = ColumnDataSource(\n",
    "    data=dict(\n",
    "        x= x_one,\n",
    "        y= y_one,\n",
    "        label=[\"%s - %s\" % (upper_, lower_) for upper_, lower_ in zip(upper_one, lower_one)]\n",
    "    )\n",
    ")\n",
    "\n",
    "source_two = ColumnDataSource(\n",
    "    data=dict(\n",
    "        x= x_two,\n",
    "        y= y_two,\n",
    "        label=[\"%s - %s\" % (upper_, lower_) for upper_, lower_ in zip(upper_two, lower_two)]\n",
    "    )\n",
    ")\n",
    "\n",
    "TOOLS=\"crosshair,pan,wheel_zoom,box_zoom,reset,hover,previewsave\"\n",
    "p = figure(title=\"Genotype Time-to-Event Survival\",tools=TOOLS)\n",
    "\n",
    "p.circle('x', 'y', color=\"#ec134b\", line_width=2, source=source_zero)\n",
    "p.circle('x', 'y', color=\"#2222aa\", line_width=2, source=source_one)\n",
    "p.circle('x', 'y', color=\"#9456aa\", line_width=2, source=source_two)\n",
    "\n",
    "p.step(x_zero,y_zero, color=\"#ec134b\", line_width=2)\n",
    "p.step(x_one,y_one, color=\"#2222aa\", line_width=2)\n",
    "p.step(x_two,y_two, color=\"#9456aa\", line_width=2)\n",
    "\n",
    "p.step(x_zero,upper_zero, color=\"#ec134b\", line_width=.25)\n",
    "p.step(x_one,upper_one, color=\"#4444aa\", line_width=.25)\n",
    "p.step(x_two,upper_two, color=\"#9456aa\", line_width=.25)\n",
    "\n",
    "p.step(x_zero,lower_zero, color=\"#ec134b\", line_width=.25)\n",
    "p.step(x_one,lower_one, color=\"#4444aa\", line_width=.25)\n",
    "p.step(x_two,lower_two, color=\"#9456aa\", line_width=.25)\n",
    "\n",
    "hover =p.select(dict(type=HoverTool))\n",
    "hover.tooltips = OrderedDict([\n",
    "    (\"index\", \"$index\"),\n",
    "    (\"Time, KM Estimate\", \"(@x, @y)\"),\n",
    "    (\"Upper - Lower\", \"@label\"),\n",
    "])\n",
    "#p.ygrid[0].ticker.desired_num_ticks = 20\n",
    "\n",
    "show(p)\n",
    "\n"
   ]
  },
  {
   "cell_type": "code",
   "execution_count": null,
   "metadata": {},
   "outputs": [],
   "source": []
  }
 ],
 "metadata": {
  "kernelspec": {
   "display_name": "Python 3",
   "language": "python",
   "name": "python3"
  },
  "language_info": {
   "codemirror_mode": {
    "name": "ipython",
    "version": 3
   },
   "file_extension": ".py",
   "mimetype": "text/x-python",
   "name": "python",
   "nbconvert_exporter": "python",
   "pygments_lexer": "ipython3",
   "version": "3.6.4"
  }
 },
 "nbformat": 4,
 "nbformat_minor": 2
}
